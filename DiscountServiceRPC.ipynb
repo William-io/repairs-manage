{
 "cells": [
  {
   "cell_type": "markdown",
   "source": [
    "# Discount.Grpc/Service/DiscountService.cs"
   ],
   "metadata": {}
  },
  {
   "cell_type": "markdown",
   "source": [
    "```cSharp\r\n",
    "    public class DiscountService : DiscountProtoService.DiscountProtoServiceBase\r\n",
    "    {\r\n",
    "        //Obter dados do desconto do banco de dados pós-teste \r\n",
    "        private readonly IDiscountRepository _repository;  \r\n",
    "\r\n",
    "        private readonly ILogger<DiscountService> _logger;\r\n",
    "\r\n",
    "        public DiscountService(IDiscountRepository repository, ILogger<DiscountService> logger)\r\n",
    "        {\r\n",
    "            _repository = repository ?? throw new ArgumentNullException(nameof(repository));\r\n",
    "            _logger = logger ?? throw new ArgumentNullException(nameof(logger));\r\n",
    "        }\r\n",
    "\r\n",
    "        public override async Task<CouponModel> GetDiscount(GetDiscountRequest request, ServerCallContext context)\r\n",
    "        {\r\n",
    "            var coupon = await _repository.GetDiscount(request.ProductName);\r\n",
    "            if (coupon == null)\r\n",
    "            {\r\n",
    "                throw new RpcException(new Status(StatusCode.NotFound, $\"Desconto com ProductName={request.ProductName} não encontrado.\"));\r\n",
    "            }\r\n",
    "\r\n",
    "            _logger.LogInformation(\"Desconto recuperado para ProductName : {productName}, Amount : {amount}\", coupon.ProductName, coupon.Amount);\r\n",
    "\r\n",
    "            // Faz a conversão da entidade modelo\r\n",
    "            var couponModel = _mapper.Map<CouponModel>(coupon);\r\n",
    "            return couponModel;\r\n",
    "        }\r\n",
    "    }\r\n",
    "```"
   ],
   "metadata": {}
  }
 ],
 "metadata": {
  "orig_nbformat": 4,
  "language_info": {
   "name": "plaintext"
  }
 },
 "nbformat": 4,
 "nbformat_minor": 2
}