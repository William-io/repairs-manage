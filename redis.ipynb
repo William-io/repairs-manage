{
 "cells": [
  {
   "cell_type": "markdown",
   "source": [
    "# Connection to Redis"
   ],
   "metadata": {}
  },
  {
   "cell_type": "markdown",
   "source": [
    "```cSharp\r\n",
    "builder.Services.AddStackExchangeRedisCache(options =>\r\n",
    "{\r\n",
    "    options.Configuration = \"localhost:6979\";\r\n",
    "});\r\n",
    "```\r\n",
    ">USE: options.Configuration = Configuration.GetValue<string>(\"CacheSettings:ConnectionString\");"
   ],
   "metadata": {}
  },
  {
   "cell_type": "markdown",
   "source": [
    "> Creater a connection string for the Redis cache."
   ],
   "metadata": {}
  },
  {
   "cell_type": "markdown",
   "source": [
    "```json\r\n",
    "\"CacheSettings\": {\r\n",
    "    \"ConnectionString\" : \"localhost:6379\"\r\n",
    "  }\r\n",
    "```"
   ],
   "metadata": {}
  }
 ],
 "metadata": {
  "orig_nbformat": 4,
  "language_info": {
   "name": "plaintext"
  }
 },
 "nbformat": 4,
 "nbformat_minor": 2
}